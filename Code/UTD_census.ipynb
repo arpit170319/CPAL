{
 "cells": [
  {
   "cell_type": "code",
   "execution_count": 57,
   "metadata": {},
   "outputs": [
    {
     "ename": "TypeError",
     "evalue": "'FrozenList' object is not callable",
     "output_type": "error",
     "traceback": [
      "\u001b[0;31m---------------------------------------------------------------------------\u001b[0m",
      "\u001b[0;31mTypeError\u001b[0m                                 Traceback (most recent call last)",
      "\u001b[0;32m<ipython-input-57-4cc154296a72>\u001b[0m in \u001b[0;36m<module>\u001b[0;34m()\u001b[0m\n\u001b[1;32m     39\u001b[0m \u001b[0;34m\u001b[0m\u001b[0m\n\u001b[1;32m     40\u001b[0m \u001b[0;34m\u001b[0m\u001b[0m\n\u001b[0;32m---> 41\u001b[0;31m \u001b[0mprint\u001b[0m\u001b[0;34m(\u001b[0m\u001b[0mtexas_pops\u001b[0m\u001b[0;34m.\u001b[0m\u001b[0mcolumns\u001b[0m\u001b[0;34m.\u001b[0m\u001b[0mnames\u001b[0m\u001b[0;34m(\u001b[0m\u001b[0;34m)\u001b[0m\u001b[0;34m)\u001b[0m\u001b[0;34m\u001b[0m\u001b[0m\n\u001b[0m\u001b[1;32m     42\u001b[0m \u001b[0;31m#texas_pops.to_csv(\"texas_populations_5.csv\")\u001b[0m\u001b[0;34m\u001b[0m\u001b[0;34m\u001b[0m\u001b[0m\n",
      "\u001b[0;31mTypeError\u001b[0m: 'FrozenList' object is not callable"
     ]
    }
   ],
   "source": [
    "import pandas as pd\n",
    "#import geopandas as gpd\n",
    "import numpy as np\n",
    "\n",
    "import json\n",
    "import requests\n",
    "\n",
    "# B01001_001E = variable code for 'population' (see census_variables_ALL.xslx - for full list of these)\n",
    "#place = census designation for cities\n",
    "#48 = FIPS code for Texas\n",
    "#key = my api key (please go get your own here - https://www.census.gov/developers/)\n",
    "#if you want more than one variable, just place it after the first with a comma, like -> B01001_003E,B01001_027E)\n",
    "\n",
    "#api_url = \"https://api.census.gov/data/2017/acs/acs5?get=B17001_038E,B17001_039E,B17001_040E,B17001_041E,B17001_042E,B17001_043E,B17001_044E,B17001_045E,B17001_046E,B17001_047E,B17001_048E,B17001_049E,B17001_050E,B17001_051E,B17001_052E,B17001_053E,B17001_054E,B17001_055E,B17001_056E,B17001_057E,B17001_058E,B17001_059E&for=zip%20code%20tabulation%20area:75001, 75006, 75007, 75019, 75032, 75039, 75041, 75043, 75050, 75051, 75052, 75060, 75061, 75062, 75063, 75075, 75080, 75081, 75087, 75088, 75089, 75093, 75098, 75104, 75115, 75116, 75126, 75134, 75141, 75149, 75150, 75159, 75166, 75182, 75201, 75202, 75203, 75204, 75205, 75206, 75207, 75208, 75209, 75210, 75211, 75212, 75214, 75215, 75216, 75217, 75218, 75219, 75220, 75223, 75224, 75225, 75226, 75227, 75228, 75229, 75230, 75231, 75232, 75233, 75234, 75235, 75236, 75237, 75238, 75240, 75241, 75243, 75244, 75246, 75247, 75248, 75249, 75251, 75252, 75253, 75254, 75270, 75287, 75390&key=fd62ca1c2fe4c364285485e558444e6290a9de79\";\n",
    "\n",
    "\n",
    "api_url = \"https://api.census.gov/data/2017/acs/acs5?get={}&for=zip%20code%20tabulation%20area:{}&key=fd62ca1c2fe4c364285485e558444e6290a9de79\";\n",
    "\n",
    "\n",
    "### creating the file object for the CSV files with mode = r (for reading the file).\n",
    "file_columns = open(\"Columns.csv\", mode=\"r\")\n",
    "file_zipcodes = open(file=\"zipcode.csv\",mode=\"r\")\n",
    "\n",
    "### reading the zipcodes.\n",
    "zipcodes = file_zipcodes.readline()\n",
    "\n",
    "texas_pops = pd.DataFrame()\n",
    "loopcount = 1\n",
    "for col in file_columns.read().split(\",\"):\n",
    "    response = requests.get(api_url.format(col,zipcodes))\n",
    "    result = json.loads(response.content.decode('utf-8'))\n",
    "    #result\n",
    "    #result[1]\n",
    "    if loopcount == 1:\n",
    "        texas_pops = pd.concat([texas_pops, pd.DataFrame(data=result)], axis=1) \n",
    "        loopcount = 2\n",
    "    else:\n",
    "        texas_pops = pd.concat([texas_pops, pd.DataFrame(data=result).iloc[:,0]], axis=1)\n",
    "\n",
    "        \n",
    "print(texas_pops.head())\n",
    "#texas_pops.to_csv(\"texas_populations_5.csv\")\n"
   ]
  },
  {
   "cell_type": "code",
   "execution_count": 60,
   "metadata": {
    "scrolled": true
   },
   "outputs": [],
   "source": [
    "texas_pops.to_csv(\"texas_populations.csv\")\n"
   ]
  },
  {
   "cell_type": "code",
   "execution_count": 59,
   "metadata": {},
   "outputs": [
    {
     "name": "stdout",
     "output_type": "stream",
     "text": [
      "(51, 108)\n"
     ]
    }
   ],
   "source": [
    "print(texas_pops.shape)"
   ]
  }
 ],
 "metadata": {
  "kernelspec": {
   "display_name": "Python 3",
   "language": "python",
   "name": "python3"
  }
 },
 "nbformat": 4,
 "nbformat_minor": 2
}
