{
 "cells": [
  {
   "cell_type": "code",
   "execution_count": 1,
   "metadata": {
    "collapsed": true
   },
   "outputs": [],
   "source": [
    "import pandas as pd\n",
    "import geopandas as gpd\n",
    "import numpy as np\n",
    "\n",
    "import json\n",
    "import requests\n",
    "\n",
    "# B01001_001E = variable code for 'population' (see census_variables_ALL.xslx - for full list of these)\n",
    "#place = census designation for cities\n",
    "#48 = FIPS code for Texas\n",
    "#key = my api key (please go get your own here - https://www.census.gov/developers/)\n",
    "#if you want more than one variable, just place it after the first with a comma, like -> B01001_003E,B01001_027E)\n",
    "\n",
    "api_url =\"https://api.census.gov/data/2017/acs/acs5?get=B01001_001E&for=place:*&in=state:48&key=46762b8511d74f8e080889a10c94c022e2a09f26\";\n",
    "response = requests.get(api_url)\n",
    "\n",
    "result = json.loads(response.content.decode('utf-8'))\n",
    "result\n",
    "result[1]\n",
    "\n",
    "texas_pops = pd.DataFrame(data=result)\n",
    "texas_pops.head()\n",
    "texas_pops.to_csv(\"texas_populations.csv\")\n"
   ]
  },
  {
   "cell_type": "code",
   "execution_count": null,
   "metadata": {
    "collapsed": true
   },
   "outputs": [],
   "source": []
  }
 ],
 "metadata": {
  "kernelspec": {
   "display_name": "Python 3",
   "language": "python",
   "name": "python3"
  },
  "language_info": {
   "codemirror_mode": {
    "name": "ipython",
    "version": 3
   },
   "file_extension": ".py",
   "mimetype": "text/x-python",
   "name": "python",
   "nbconvert_exporter": "python",
   "pygments_lexer": "ipython3",
   "version": "3.6.3"
  }
 },
 "nbformat": 4,
 "nbformat_minor": 2
}
